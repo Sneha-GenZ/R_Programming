{
  "nbformat": 4,
  "nbformat_minor": 0,
  "metadata": {
    "colab": {
      "provenance": [],
      "authorship_tag": "ABX9TyMeUBdBkC46g7JhxPlukIxc",
      "include_colab_link": true
    },
    "kernelspec": {
      "name": "ir",
      "display_name": "R"
    },
    "language_info": {
      "name": "R"
    }
  },
  "cells": [
    {
      "cell_type": "markdown",
      "metadata": {
        "id": "view-in-github",
        "colab_type": "text"
      },
      "source": [
        "<a href=\"https://colab.research.google.com/github/Sneha-GenZ/R_Programming/blob/main/Challenge_ques.ipynb\" target=\"_parent\"><img src=\"https://colab.research.google.com/assets/colab-badge.svg\" alt=\"Open In Colab\"/></a>"
      ]
    },
    {
      "cell_type": "markdown",
      "source": [
        "**R Nested Functions**\n",
        "*  Nested Functions\n",
        "---->There are two ways to create a nested function:\n",
        "        * Call a function within another function.\n",
        "        * Write a function within a function.\n",
        "\n",
        "\n"
      ],
      "metadata": {
        "id": "4Y8A_IggO-dy"
      }
    },
    {
      "cell_type": "markdown",
      "source": [
        "**Example**--\n",
        "* Call a function within another function:"
      ],
      "metadata": {
        "id": "vYtaVq00RR1h"
      }
    },
    {
      "cell_type": "code",
      "source": [
        "Nested_function <- function(x, y) {\n",
        "  a <- x + y\n",
        "  return(a)\n",
        "}\n",
        "\n",
        "Nested_function(Nested_function(2,2), Nested_function(3,3))"
      ],
      "metadata": {
        "id": "ZXB3ggBqRXa_"
      },
      "execution_count": null,
      "outputs": []
    },
    {
      "cell_type": "markdown",
      "source": [
        "**Example Explained**\n",
        "* The function tells x to add y.\n",
        "\n",
        "* The first input Nested_function(2,2) is \"x\" of the main function.\n",
        "\n",
        "* The second input Nested_function(3,3) is \"y\" of the main function.\n",
        "\n",
        "* The output is therefore (2+2) + (3+3) = 10."
      ],
      "metadata": {
        "id": "ozbDYtkhRzwT"
      }
    },
    {
      "cell_type": "markdown",
      "source": [
        "*   Write a function within a function:"
      ],
      "metadata": {
        "id": "Yih7dkEfRZth"
      }
    },
    {
      "cell_type": "code",
      "source": [
        "# Try to understand the execution of the program.\n",
        "Outer_func <- function(x) {\n",
        "  Inner_func <- function(y) {\n",
        "    a <- x + y\n",
        "    return(a)\n",
        "  }\n",
        "  return (Inner_func)\n",
        "}\n",
        "output <- Outer_func(3) # To call the Outer_func\n",
        "output(5)"
      ],
      "metadata": {
        "colab": {
          "base_uri": "https://localhost:8080/",
          "height": 34
        },
        "id": "D1nJgjtTPJZ2",
        "outputId": "50bfd29d-1aaf-4c31-e3b0-11e587d1209b"
      },
      "execution_count": 2,
      "outputs": [
        {
          "output_type": "display_data",
          "data": {
            "text/html": [
              "8"
            ],
            "text/markdown": "8",
            "text/latex": "8",
            "text/plain": [
              "[1] 8"
            ]
          },
          "metadata": {}
        }
      ]
    },
    {
      "cell_type": "markdown",
      "source": [
        "**Example Explained** --\n",
        "* You cannot directly call the function because the Inner_func has been defined (nested) inside the Outer_func.\n",
        "\n",
        "---->We need to call Outer_func first in order to call Inner_func as a second step.\n",
        "\n",
        "---->We need to create a new variable called output and give it a value, which is 3 here.\n",
        "\n",
        "---->We then print the output with the desired value of \"y\", which in this case is 5.\n",
        "\n",
        "The output is therefore 8 (3 + 5)."
      ],
      "metadata": {
        "id": "KI8-4FtzQ1EW"
      }
    }
  ]
}